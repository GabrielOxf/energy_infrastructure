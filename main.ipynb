{
 "cells": [
  {
   "cell_type": "code",
   "execution_count": null,
   "metadata": {},
   "outputs": [],
   "source": [
    "import pandapower as pp\n",
    "import pandapower.networks as pn\n",
    "import pandapower.plotting as ppp\n",
    "import pandas as pd\n",
    "import matplotlib.pyplot as plt\n",
    "from statistics import mean\n",
    "\n",
    "#Necessary for the map plots\n",
    "\n",
    "ppp.plotly.mapbox_plot.set_mapbox_token('pk.eyJ1IjoiYTA1MTIxOSIsImEiOiJjazNzanQxNWcwNzlmM2hvNHI0azJmZXJxIn0.Ml2ah_liMPO_zPyrXEpoVw')"
   ]
  },
  {
   "cell_type": "code",
   "execution_count": null,
   "metadata": {},
   "outputs": [],
   "source": [
    "'''\n",
    "This cell re-initialises the network\n",
    "\n",
    "There are two options available:\n",
    "1. Re-initialise from the original GBreducednetwork\n",
    "2. Re-initialise from the modified network stored in, net_geodata.xlsx\n",
    "\n",
    "net_geodata.xlsx contains the real-world geodata stored in lat/long for the buses\n",
    "It also contains updated demand and generation data to better reflect changes from 2019.\n",
    "\n",
    "The network is outputted to a readable Excel file in the current working directory.\n",
    "'''\n",
    "\n",
    "net = pp.from_excel('net_geodata.xlsx')\n",
    "\n",
    "scaling = 1.0\n",
    "net.load.scaling = scaling\n",
    "\n",
    "#net = pn.GBreducednetwork()\n",
    "pp.runpp(net)\n",
    "\n",
    "pp.to_excel(net,'net.xlsx')\n",
    "\n",
    "print(f\"Mean Loading Percent = {mean(net.res_line['loading_percent'])}\")\n",
    "print(f\"Cumulative Loading Percent = {sum(net.res_line['loading_percent'])}\")\n",
    "print(f\"Maximum Loading Percent = {max(net.res_line['loading_percent'])}\")"
   ]
  },
  {
   "cell_type": "code",
   "execution_count": null,
   "metadata": {},
   "outputs": [],
   "source": [
    "'''\n",
    "This cell drops every individual line in sequence, either in a defined list or in the full dataset\n",
    "Generates a summarised results table, 'Results.xlsx'\n",
    "\n",
    "'Results.xlsx' contains:\n",
    "The MEAN of all remaining loading percentages\n",
    "The SUM of all loading percentages\n",
    "The MAX loading percentage in the remaining network\n",
    "'''\n",
    "\n",
    "#net = pn.GBreducednetwork()\n",
    "net = pp.from_excel('net_geodata.xlsx')\n",
    "net.load.scaling = scaling\n",
    "print(f\"Running {len(net.res_line)} lines...\")\n",
    "\n",
    "index = []\n",
    "mean_lp = []\n",
    "sum_lp = []\n",
    "max_lp = []\n",
    "\n",
    "#Enable for running the dataset on a specific sub-set of lines:\n",
    "#spec_bus = []\n",
    "\n",
    "for i in range(0,len(net.res_line)):\n",
    "#for i in range(70,78):\n",
    "#for i in spec_bus:\n",
    "    pp.drop_lines(net,[i])\n",
    "    index.append(i)\n",
    "    try:\n",
    "        pp.runpp(net, max_iteration=200)\n",
    "        mean_lp.append(mean(net.res_line['loading_percent']))\n",
    "        sum_lp.append(sum(net.res_line['loading_percent']))\n",
    "        max_lp.append(max(net.res_line['loading_percent']))\n",
    "        print(i, end=' - ')\n",
    "    except:\n",
    "        print(f\"({i})\", end=' - ')\n",
    "        mean_lp.append(\"Did not converge.\")\n",
    "        sum_lp.append(\"Did not converge.\")\n",
    "        max_lp.append(\"Did not converge.\")\n",
    "#    net = pn.GBreducednetwork()\n",
    "    net = pp.from_excel('net_geodata.xlsx')\n",
    "    net.load.scaling = scaling\n",
    "    \n",
    "print(\"END\\nOperation complete. Results dumped to Results.xlsx.\")\n",
    "    \n",
    "data = {'Line': index,\n",
    "      'Mean Loading Percent': mean_lp,\n",
    "      'Sum Loading Percent': sum_lp,\n",
    "      'Maximum Loading Percent': max_lp }\n",
    " \n",
    "df = pd.DataFrame(data)\n",
    "\n",
    "df.to_excel('Result.xlsx')"
   ]
  },
  {
   "cell_type": "code",
   "execution_count": null,
   "metadata": {},
   "outputs": [],
   "source": [
    "'''\n",
    "This cell drops a specified individual line and runs the full network when that line is dropped.\n",
    "Network is outputted to an Excel file in the current working directly.\n",
    "You can also then plot maps etc. with the dropped network.\n",
    "You can also repeat this cell to drop additional lines.\n",
    "\n",
    "For a full network analysis, use the above cell, which does the same thing iteratively for every line in sequence.\n",
    "'''\n",
    "\n",
    "#net = pn.GBreducednetwork()\n",
    "#net = pp.from_excel('net_geodata.xlsx')\n",
    "\n",
    "x = int(input(\"Enter line to drop > \"))\n",
    "\n",
    "pp.drop_lines(net,[x])\n",
    "\n",
    "pp.runpp(net, max_iteration=1000)\n",
    "\n",
    "pp.to_excel(net,'net_drop_' + str(x) + '.xlsx')"
   ]
  },
  {
   "cell_type": "code",
   "execution_count": null,
   "metadata": {},
   "outputs": [],
   "source": [
    "ppp.simple_plot(net)"
   ]
  },
  {
   "cell_type": "code",
   "execution_count": null,
   "metadata": {},
   "outputs": [],
   "source": [
    "#Simple map of voltage levels of lines\n",
    "\n",
    "ppp.plotly.vlevel_plotly(net,on_map='True')\n",
    "\n",
    "#NOTE: The map generates correctly, but you may need to zoom out quite a bit before the network becomes visible.\n",
    "#If you get error that lat/long are not valid, please check that you are loading 'net_geodata.xlsx'"
   ]
  },
  {
   "cell_type": "code",
   "execution_count": null,
   "metadata": {},
   "outputs": [],
   "source": [
    "#Map of power flows (loading percentages)\n",
    "\n",
    "pp.runpp(net)\n",
    "ppp.plotly.pf_res_plotly(net,on_map='True')\n",
    "\n",
    "#NOTE: The map generates correctly, but you may need to zoom out quite a bit before the network becomes visible.\n",
    "#If you get error that lat/long are not valid, please check that you are loading 'net_geodata.xlsx'"
   ]
  },
  {
   "cell_type": "code",
   "execution_count": null,
   "metadata": {},
   "outputs": [],
   "source": [
    "'''\n",
    "This cell is for mitigation strategies.\n",
    "\n",
    "It creates a new line between two specified buses and then re-runs the network with the new line.\n",
    "'''\n",
    "\n",
    "A = int(input(\"New line start at bus > \"))\n",
    "B = int(input(\"New line ends at bus > \"))\n",
    "\n",
    "#Operation performed twice for a double circuit line\n",
    "\n",
    "pp.create_line_from_parameters(net, from_bus = A, to_bus = B, length_km=1, r_ohm_per_km = .32, x_ohm_per_km = 8.048, c_nf_per_km = 357.5, max_i_ka = 4.47)\n",
    "pp.create_line_from_parameters(net, from_bus = A, to_bus = B, length_km=1, r_ohm_per_km = .32, x_ohm_per_km = 8.048, c_nf_per_km = 357.5, max_i_ka = 4.47)\n",
    "\n",
    "pp.to_excel(net,'net_add_line.xlsx')"
   ]
  },
  {
   "cell_type": "code",
   "execution_count": null,
   "metadata": {},
   "outputs": [],
   "source": []
  }
 ],
 "metadata": {
  "kernelspec": {
   "display_name": "Python 3",
   "language": "python",
   "name": "python3"
  },
  "language_info": {
   "codemirror_mode": {
    "name": "ipython",
    "version": 3
   },
   "file_extension": ".py",
   "mimetype": "text/x-python",
   "name": "python",
   "nbconvert_exporter": "python",
   "pygments_lexer": "ipython3",
   "version": "3.7.4"
  }
 },
 "nbformat": 4,
 "nbformat_minor": 2
}
